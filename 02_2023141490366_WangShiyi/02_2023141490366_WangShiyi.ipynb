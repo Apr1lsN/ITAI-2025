{
 "cells": [
  {
   "cell_type": "code",
   "execution_count": null,
   "id": "76ae93e4-ffc4-4723-b305-748816aaace1",
   "metadata": {},
   "outputs": [],
   "source": []
  }
 ],
 "metadata": {
  "kernelspec": {
   "display_name": "",
   "name": ""
  },
  "language_info": {
   "name": ""
  }
 },
 "nbformat": 4,
 "nbformat_minor": 5
}
