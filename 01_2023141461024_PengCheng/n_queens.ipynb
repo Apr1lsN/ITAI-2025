{
 "cells": [
  {
   "cell_type": "markdown",
   "id": "7299f5f8",
   "metadata": {},
   "source": [
    "\n",
    "# N 皇后问题求解（回溯法优化版）\n",
    "\n",
    "编号：2025-01  \n",
    "姓名：彭程  \n",
    "学号：2023141461024 \n",
    "\n",
    "## 实验目的  \n",
    "通过实现 N 皇后问题的求解程序，掌握回溯法与剪枝策略，记录运行时间，分析算法时间复杂度。\n",
    "\n",
    "## 实验环境  \n",
    "Python 3.9.20  \n",
    "Jupyter Notebook  \n"
   ]
  },
  {
   "cell_type": "code",
   "execution_count": 19,
   "id": "367aea1f",
   "metadata": {},
   "outputs": [],
   "source": [
    "import time  # 导入time模块用于计算程序运行时间"
   ]
  },
  {
   "cell_type": "markdown",
   "id": "09ae2303",
   "metadata": {},
   "source": [
    "## 输入函数（带合法性检查）"
   ]
  },
  {
   "cell_type": "code",
   "execution_count": 20,
   "id": "1b3ed25b",
   "metadata": {},
   "outputs": [],
   "source": [
    "def get_input():\n",
    "    while True:\n",
    "        try:\n",
    "            N = int(input(\"请输入 N（N≥4）：\"))  # 输入整数N\n",
    "            if N >= 4:\n",
    "                return N  # 符合条件返回N\n",
    "            else:\n",
    "                print(\"N 必须 ≥ 4，请重新输入。\")  # 不符合条件提示重新输入\n",
    "        except ValueError:\n",
    "            print(\"请输入一个整数。\")  # 捕获非整数输入，提示错误"
   ]
  },
  {
   "cell_type": "markdown",
   "id": "3b2da5b4",
   "metadata": {},
   "source": [
    "## 棋盘输出函数"
   ]
  },
  {
   "cell_type": "code",
   "execution_count": 21,
   "id": "bffdbeec",
   "metadata": {},
   "outputs": [],
   "source": [
    "def print_board(queen_positions):\n",
    "    N = len(queen_positions)  # 获取棋盘大小\n",
    "    for row in range(N):  # 遍历每一行\n",
    "        line = \"\"\n",
    "        for col in range(N):  # 遍历每一列\n",
    "            if queen_positions[row] == col:\n",
    "                line += \"Q \"  # 放置皇后位置\n",
    "            else:\n",
    "                line += \". \"  # 空位用.表示\n",
    "        print(line)  # 输出该行\n",
    "    print(\"\\n\")  # 换行分隔不同解"
   ]
  },
  {
   "cell_type": "markdown",
   "id": "9a0a0cfd",
   "metadata": {},
   "source": [
    "## N 皇后求解函数（回溯法 + 剪枝）"
   ]
  },
  {
   "cell_type": "code",
   "execution_count": 22,
   "id": "4ed7cb8b",
   "metadata": {},
   "outputs": [],
   "source": [
    "def solve_n_queens(N):\n",
    "    solutions = []  # 用于存储所有解\n",
    "    cols, diag1, diag2 = set(), set(), set()  # 分别记录已占用的列、主对角线、副对角线（剪枝关键数据结构）\n",
    "\n",
    "    def backtrack(row, queen_positions):\n",
    "        if row == N:  # 如果成功放置到最后一行\n",
    "            solutions.append(queen_positions[:])  # 保存当前解\n",
    "            return  # 返回上一层递归，继续找其它解\n",
    "\n",
    "        for col in range(N):  # 遍历当前行的每一列\n",
    "            if col in cols or (row - col) in diag1 or (row + col) in diag2:  # 剪枝：判断当前位置是否冲突\n",
    "                continue  # 如果当前位置被攻击，跳过\n",
    "\n",
    "            queen_positions[row] = col  # 放置皇后\n",
    "            cols.add(col)  # 标记列（剪枝，避免后续行再用此列）\n",
    "            diag1.add(row - col)  # 标记主对角线（剪枝）\n",
    "            diag2.add(row + col)  # 标记副对角线（剪枝）\n",
    "\n",
    "            backtrack(row + 1, queen_positions)  # 递归放置下一行\n",
    "\n",
    "            cols.remove(col)  # 回溯，撤销列标记\n",
    "            diag1.remove(row - col)  # 撤销主对角线标记\n",
    "            diag2.remove(row + col)  # 撤销副对角线标记\n",
    "\n",
    "    backtrack(0, [-1]*N)  # 从第0行开始，初始皇后位置全设为-1\n",
    "    return solutions  # 返回所有解\n"
   ]
  },
  {
   "cell_type": "markdown",
   "id": "71dfb441",
   "metadata": {},
   "source": [
    "## 主程序入口"
   ]
  },
  {
   "cell_type": "code",
   "execution_count": 23,
   "id": "85bc100d",
   "metadata": {},
   "outputs": [],
   "source": [
    "def main():\n",
    "    N = get_input()  # 获取用户输入的棋盘大小\n",
    "\n",
    "    # 模式选择，带非法输入检验\n",
    "    while True:\n",
    "        mode = input(\"输出所有解请输入 A，只要一个解请输入 O：\")  # 获取模式输入\n",
    "        if mode and mode.upper() in ['A', 'O']:  # 确保mode非空且转大写后是A或O\n",
    "            mode = mode.upper()  # 转大写，方便后续判断\n",
    "            break  # 输入合法，跳出循环\n",
    "        else:\n",
    "            print(\"输入错误！请输入字母 A 或 O。\")  # 提示重新输入\n",
    "\n",
    "    start_time = time.time()  # 记录开始时间\n",
    "    solutions = solve_n_queens(N)  # 调用求解函数，计算所有解\n",
    "    end_time = time.time()  # 记录结束时间\n",
    "\n",
    "    if mode == 'A':  # 如果是A模式，输出所有解\n",
    "        for idx, solution in enumerate(solutions):\n",
    "            print(f\"解 {idx+1}：\")  # 输出解序号\n",
    "            print_board(solution)  # 输出该解的棋盘布局\n",
    "    else:  # 如果是O模式，只输出一个解\n",
    "        print(\"其中一个解如下：\")\n",
    "        print_board(solutions[0])  # 输出第一个解\n",
    "\n",
    "    print(f\"总解数：{len(solutions)}\")  # 输出总解数\n",
    "    print(f\"运行时间：{end_time - start_time:.4f} 秒\")  # 输出程序运行时间\n",
    "\n"
   ]
  },
  {
   "cell_type": "markdown",
   "id": "d295ea3b",
   "metadata": {},
   "source": [
    "## 执行程序"
   ]
  },
  {
   "cell_type": "code",
   "execution_count": null,
   "id": "869cb0a5",
   "metadata": {},
   "outputs": [],
   "source": [
    "if __name__ == \"__main__\":\n",
    "    main()  # 程序入口，执行主程序"
   ]
  },
  {
   "cell_type": "markdown",
   "id": "6a7817d2",
   "metadata": {},
   "source": [
    "## 绘图"
   ]
  },
  {
   "cell_type": "code",
   "execution_count": null,
   "id": "888e89d4",
   "metadata": {},
   "outputs": [],
   "source": [
    "import time\n",
    "import matplotlib.pyplot as plt\n",
    "from matplotlib import font_manager\n",
    "\n",
    "# 设置支持中文的字体（这里以常见的“SimHei”黑体为例）\n",
    "plt.rcParams['font.sans-serif'] = ['SimHei']  # 指定默认字体为黑体\n",
    "plt.rcParams['axes.unicode_minus'] = False    # 解决负号 '-' 显示为方块的问题\n",
    "\n",
    "\n",
    "def solve_n_queens_time(N):\n",
    "    solutions = []\n",
    "    cols, diag1, diag2 = set(), set(), set()\n",
    "\n",
    "    def backtrack(row, queen_positions):\n",
    "        if row == N:\n",
    "            solutions.append(queen_positions[:])\n",
    "            return\n",
    "        for col in range(N):\n",
    "            if col in cols or (row - col) in diag1 or (row + col) in diag2:\n",
    "                continue\n",
    "            queen_positions[row] = col\n",
    "            cols.add(col)\n",
    "            diag1.add(row - col)\n",
    "            diag2.add(row + col)\n",
    "            backtrack(row + 1, queen_positions)\n",
    "            cols.remove(col)\n",
    "            diag1.remove(row - col)\n",
    "            diag2.remove(row + col)\n",
    "\n",
    "    start = time.time()\n",
    "    backtrack(0, [-1]*N)\n",
    "    end = time.time()\n",
    "    return end - start, len(solutions)\n",
    "\n",
    "Ns = list(range(4, 13))\n",
    "times = []\n",
    "solutions_counts = []\n",
    "\n",
    "for N in Ns:\n",
    "    t, count = solve_n_queens_time(N)\n",
    "    times.append(t)\n",
    "    solutions_counts.append(count)\n",
    "    print(f\"N={N}, 解数={count}, 时间={t:.4f}秒\")\n",
    "\n",
    "plt.figure(figsize=(8,5))\n",
    "plt.plot(Ns, times, marker='o', color='blue')\n",
    "plt.title(\"N皇后问题运行时间曲线\")\n",
    "plt.xlabel(\"N值\")\n",
    "plt.ylabel(\"运行时间（秒）\")\n",
    "plt.grid(True)\n",
    "plt.xticks(Ns)\n",
    "plt.show()\n"
   ]
  },
  {
   "cell_type": "markdown",
   "id": "97f0fab8",
   "metadata": {},
   "source": [
    "## 算法时间复杂度分析\n",
    "\n",
    "最坏时间复杂度为 O(N!)，由于存在大量剪枝操作，实际复杂度远低于 O(N!)。\n",
    "\n",
    "剪枝策略：\n",
    "- 使用集合记录已占用的列、主对角线、副对角线，避免冲突位置递归\n",
    "- 出现冲突时跳过该列位置，减少递归深度\n",
    "\n",
    "空间复杂度为 O(N)。\n",
    "\n",
    "该算法仍然属于指数级复杂度，但通过剪枝大幅降低了实际搜索树规模。"
   ]
  }
 ],
 "metadata": {
  "kernelspec": {
   "display_name": "Python 3",
   "language": "python",
   "name": "python3"
  },
  "language_info": {
   "codemirror_mode": {
    "name": "ipython",
    "version": 3
   },
   "file_extension": ".py",
   "mimetype": "text/x-python",
   "name": "python",
   "nbconvert_exporter": "python",
   "pygments_lexer": "ipython3",
   "version": "3.12.3"
  }
 },
 "nbformat": 4,
 "nbformat_minor": 5
}
