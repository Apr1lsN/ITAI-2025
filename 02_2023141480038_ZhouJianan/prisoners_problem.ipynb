{
 "cells": [
  {
   "metadata": {},
   "cell_type": "markdown",
   "source": [
    "# 100囚犯抽签问题仿真\n",
    "100 名囚犯编号为 1 至 100。监狱长准备一个房间，内有 100 个盒子，每个盒子内随机放入\n",
    "一张囚犯编号的纸条（编号不重复）。囚犯依次进入房间，每人可打开最多 50 个盒子寻找自\n",
    "己的编号。若所有囚犯均在 50 次尝试内找到自己的编号，则全体获释；否则全员失败。原\n",
    "问题出自 2003 年《American Mathematical Monthly》\n",
    "\n",
    "关键点：\n",
    "1. 囚犯不能交流或修改盒子内容。\n",
    "2. 每个囚犯的搜索策略影响整体成功率。"
   ],
   "id": "bc39e4e40acbd580"
  },
  {
   "metadata": {
    "ExecuteTime": {
     "end_time": "2025-06-04T04:37:47.944878Z",
     "start_time": "2025-06-04T04:37:43.548462Z"
    }
   },
   "cell_type": "code",
   "source": [
    "import random\n",
    "import matplotlib.pyplot as plt\n",
    "import pandas as pd\n",
    "import matplotlib\n",
    "\n",
    "# 设置中文字体与负号显示\n",
    "matplotlib.rcParams['font.sans-serif'] = ['SimHei']  # 用于图表的中文显示\n",
    "matplotlib.rcParams['axes.unicode_minus'] = False  # 正确显示负号\n",
    "\n",
    "class PrisonersProblemSimulator:\n",
    "    def __init__(self, n=100, k=50, t=10000):\n",
    "        self.n = n  # 囚犯数量\n",
    "        self.k = k  # 每名囚犯允许打开的盒子数量\n",
    "        self.t = t  # 模拟轮次\n",
    "        self.success_random = 0  # 随机策略成功次数\n",
    "        self.success_cycle = 0   # 循环策略成功次数\n",
    "        self.cycle_success_distribution = []  # 每轮循环策略的成败分布\n",
    "\n",
    "    def simulate(self):\n",
    "        \"\"\"\n",
    "        进行 T 轮模拟实验，每轮生成一个随机盒子排列，执行两种策略，统计结果。\n",
    "        \"\"\"\n",
    "        for _ in range(self.t):\n",
    "            boxes = list(range(self.n))  # 盒子中放入囚犯编号\n",
    "            random.shuffle(boxes)        # 随机打乱\n",
    "\n",
    "            # 策略 1：随机搜索\n",
    "            if self._random_strategy(boxes):\n",
    "                self.success_random += 1\n",
    "\n",
    "            # 策略 2：循环策略\n",
    "            cycle_success = self._cycle_strategy(boxes)\n",
    "            if cycle_success:\n",
    "                self.success_cycle += 1\n",
    "                self.cycle_success_distribution.append(1)\n",
    "            else:\n",
    "                self.cycle_success_distribution.append(0)\n",
    "\n",
    "    def _random_strategy(self, boxes):\n",
    "        \"\"\"\n",
    "        每个囚犯随机选择 K 个盒子，检查是否能找到自己的编号。\n",
    "        \"\"\"\n",
    "        for prisoner in range(self.n):\n",
    "            choices = random.sample(range(self.n), self.k)\n",
    "            if prisoner not in [boxes[c] for c in choices]:\n",
    "                return False  # 某个囚犯失败则全体失败\n",
    "        return True\n",
    "\n",
    "    def _cycle_strategy(self, boxes):\n",
    "        \"\"\"\n",
    "        每个囚犯从以自己编号开始查找，依次跳转最多 K 次。\n",
    "        \"\"\"\n",
    "        for prisoner in range(self.n):\n",
    "            current = prisoner\n",
    "            for _ in range(self.k):\n",
    "                if boxes[current] == prisoner:\n",
    "                    break  # 找到自己编号\n",
    "                current = boxes[current]  # 跳转到编号对应的新盒子\n",
    "            else:\n",
    "                return False  # 超过 K 次未找到\n",
    "        return True\n",
    "\n",
    "    def report(self):\n",
    "        \"\"\"\n",
    "        输出两种策略的成功率，并绘制循环策略的成功/失败分布图。\n",
    "        \"\"\"\n",
    "        rate_random = self.success_random / self.t\n",
    "        rate_cycle = self.success_cycle / self.t\n",
    "\n",
    "        df = pd.DataFrame({\n",
    "            \"策略\": [\"随机策略\", \"循环策略\"],\n",
    "            \"成功率\": [f\"{rate_random:.2%}\", f\"{rate_cycle:.2%}\"]\n",
    "        })\n",
    "\n",
    "        print(\"\\n策略成功率对比：\")\n",
    "        print(df.to_string(index=False))\n",
    "\n",
    "        # 成败分布图\n",
    "        plt.hist(self.cycle_success_distribution, bins=2, edgecolor='black', rwidth=0.8)\n",
    "        plt.xticks([0, 1], ['失败', '成功'])\n",
    "        plt.title(f'{self.t}轮模拟中循环策略的成败分布\\n(N={self.n}, K={self.k})')\n",
    "        plt.xlabel('结果')\n",
    "        plt.ylabel('次数')\n",
    "        plt.grid(True)\n",
    "        plt.tight_layout()\n",
    "        plt.show()\n",
    "    \n",
    "    # 之后要用到的\n",
    "    @staticmethod\n",
    "    def estimate_theoretical_success_rate(n=100, k=50, trials=100000):\n",
    "        \"\"\"\n",
    "        估计理论最优策略（循环策略）的成功概率\n",
    "        原理：在一个随机排列中，如果所有循环长度 <= k，则本轮实验成功\n",
    "        \"\"\"\n",
    "        success_count = 0  # 成功的次数计数器\n",
    "    \n",
    "        for _ in range(trials):\n",
    "            visited = [False] * n  # 避免重复计算\n",
    "            perm = list(range(n))  # 初始排列为0到n-1\n",
    "            random.shuffle(perm)   # 模拟盒子编号\n",
    "    \n",
    "            max_cycle_len = 0  # 当前排列中最大循环长度\n",
    "    \n",
    "            for i in range(n):\n",
    "                if not visited[i]:  # 如果还未被访问，则从该点开始找循环\n",
    "                    cnt = 0  # 当前循环长度计数\n",
    "                    j = i\n",
    "                    while not visited[j]:\n",
    "                        visited[j] = True  # 标记为访问\n",
    "                        j = perm[j]       # 跳转到下一个盒子的编号\n",
    "                        cnt += 1\n",
    "                    max_cycle_len = max(max_cycle_len, cnt)  # 更新最大循环长度\n",
    "    \n",
    "                    # 剪枝优化：如果某个循环长度已经大于K，本次失败，退出循环\n",
    "                    if max_cycle_len > k:\n",
    "                        break\n",
    "    \n",
    "            # 如果最大循环长度小于等于K，则记录为一次成功\n",
    "            if max_cycle_len <= k:\n",
    "                success_count += 1\n",
    "    \n",
    "        return success_count / trials  # 返回成功的比例\n",
    "\n",
    "\n",
    "def main():\n",
    "    try:\n",
    "        # 用户输入（可选），若为空则使用默认值\n",
    "        n = input(\"请输入囚犯总数 N（默认100直接点选OK）：\").strip()\n",
    "        k = input(\"请输入每人尝试次数 K（默认50直接点选OK）：\").strip()\n",
    "        t = input(\"请输入模拟轮数 T（默认10000直接点选OK）：\").strip()\n",
    "\n",
    "        n = int(n) if n else 100\n",
    "        k = int(k) if k else 50\n",
    "        t = int(t) if t else 10000\n",
    "\n",
    "    except ValueError:\n",
    "        print(\"输入格式错误，使用默认参数 N=100, K=50, T=10000。\")\n",
    "        n, k, t = 100, 50, 10000\n",
    "\n",
    "    # 创建模拟器并运行\n",
    "    start = time.time()\n",
    "    simulator = PrisonersProblemSimulator(n, k, t)\n",
    "    simulator.simulate()\n",
    "    simulator.report()\n",
    "    duration = time.time() - start\n",
    "    return duration\n",
    "if __name__ == '__main__':\n",
    "    res = main()\n",
    "    print(\"最终时间为：\")\n",
    "    print(res)\n"
   ],
   "id": "2687d4047e5dca55",
   "outputs": [
    {
     "name": "stdout",
     "output_type": "stream",
     "text": [
      "\n",
      "策略成功率对比：\n",
      "  策略    成功率\n",
      "随机策略  0.00%\n",
      "循环策略 31.37%\n"
     ]
    },
    {
     "data": {
      "text/plain": [
       "<Figure size 640x480 with 1 Axes>"
      ],
      "image/png": "[encoded data removed]"
     },
     "metadata": {},
     "output_type": "display_data"
    },
    {
     "name": "stdout",
     "output_type": "stream",
     "text": [
      "最终时间为：\n",
      "1.3004560470581055\n"
     ]
    }
   ],
   "execution_count": 16
  },
  {
   "metadata": {},
   "cell_type": "markdown",
   "source": [
    "## 扩展分析\n",
    "1.  调整N和K的值：\n",
    "    这里把N和K分别对应转换为 50，25和 30，15重新测试"
   ],
   "id": "e7295a036efe81d2"
  },
  {
   "metadata": {
    "ExecuteTime": {
     "end_time": "2025-06-04T04:16:03.590386Z",
     "start_time": "2025-06-04T04:15:55.898490Z"
    }
   },
   "cell_type": "code",
   "source": "main()# 直接调用即可",
   "id": "46e8ea98fc9d7904",
   "outputs": [
    {
     "name": "stdout",
     "output_type": "stream",
     "text": [
      "\n",
      "策略成功率对比：\n",
      "  策略    成功率\n",
      "随机策略  0.00%\n",
      "循环策略 32.72%\n"
     ]
    },
    {
     "data": {
      "text/plain": [
       "<Figure size 640x480 with 1 Axes>"
      ],
      "image/png": "[encoded data removed]"
     },
     "metadata": {},
     "output_type": "display_data"
    }
   ],
   "execution_count": 7
  },
  {
   "metadata": {},
   "cell_type": "markdown",
   "source": [
    "2.  绘制趋势图找出最优策略成功率\n",
    "\n",
    "由于在循环策略中，每个囚犯会沿着一条排列循环移动。一个囚犯成功的前提是他所在的循环长度 ≤ K。如果所有循环长度 ≤ K，则所有囚犯成功\n",
    "那么问题就转换为：\n",
    "\n",
    "一个随机排列中，是否所有循环的长度 ≤ K？\n",
    "\n",
    "**我们通过仿真方式统计最大循环长度是否 ≤ K，次数足够时即可逼近真实理论成功率**\n",
    "\n",
    "在原先的类中添加方法："
   ],
   "id": "64bcc19252e13f70"
  },
  {
   "metadata": {},
   "cell_type": "code",
   "source": [
    "def estimate_theoretical_success_rate(n=100, k=50, trials=100000):\n",
    "    \"\"\"\n",
    "    估计理论最优策略（循环策略）的成功概率\n",
    "    原理：在一个随机排列中，如果所有循环长度 <= k，则本轮实验成功\n",
    "    \"\"\"\n",
    "    success_count = 0  # 成功的次数计数器\n",
    "\n",
    "    for _ in range(trials):\n",
    "        visited = [False] * n  # 避免重复计算\n",
    "        perm = list(range(n))  # 初始排列为0到n-1\n",
    "        random.shuffle(perm)   # 模拟盒子编号\n",
    "\n",
    "        max_cycle_len = 0  # 当前排列中最大循环长度\n",
    "\n",
    "        for i in range(n):\n",
    "            if not visited[i]:  # 如果还未被访问，则从该点开始找循环\n",
    "                cnt = 0  # 当前循环长度计数\n",
    "                j = i\n",
    "                while not visited[j]:\n",
    "                    visited[j] = True  # 标记为访问\n",
    "                    j = perm[j]       # 跳转到下一个盒子的编号\n",
    "                    cnt += 1\n",
    "                max_cycle_len = max(max_cycle_len, cnt)  # 更新最大循环长度\n",
    "\n",
    "                # 剪枝优化：如果某个循环长度已经大于K，本次失败，退出循环\n",
    "                if max_cycle_len > k:\n",
    "                    break\n",
    "\n",
    "        # 如果最大循环长度小于等于K，则记录为一次成功\n",
    "        if max_cycle_len <= k:\n",
    "            success_count += 1\n",
    "\n",
    "    return success_count / trials  # 返回成功的比例\n"
   ],
   "id": "a968b44fd8bd515e",
   "outputs": [],
   "execution_count": null
  },
  {
   "metadata": {},
   "cell_type": "markdown",
   "source": "具体执行：",
   "id": "21beda556d80cd42"
  },
  {
   "metadata": {
    "ExecuteTime": {
     "end_time": "2025-06-04T03:47:40.342074Z",
     "start_time": "2025-06-04T03:47:36.729408Z"
    }
   },
   "cell_type": "code",
   "source": [
    "simulator = PrisonersProblemSimulator(100, 50, 10000)\n",
    "theoretical_rate = simulator.estimate_theoretical_success_rate(100, 50, 100000)\n",
    "print(f\"理论成功率估计（基于排列循环模拟）：{theoretical_rate:.2%}\")"
   ],
   "id": "941e582dce769536",
   "outputs": [
    {
     "name": "stdout",
     "output_type": "stream",
     "text": [
      "理论成功率估计（基于排列循环模拟）：30.96%\n"
     ]
    }
   ],
   "execution_count": 2
  },
  {
   "metadata": {},
   "cell_type": "markdown",
   "source": "实际模拟成功率 ≈ 理论成功率，说明代码已成功实现仿真。同时理论值是大数定律下的“平均期望值”，而实际模拟值也收敛到了类似的结果，说明模拟轮数已基本足够，不再剧烈波动，总之循环策略的数学模型是准确的，模拟程序也是可信的。",
   "id": "5a65eb42b517e356"
  },
  {
   "metadata": {},
   "cell_type": "markdown",
   "source": [
    "##  优化策略\n",
    "本实验通过判断最大循环长度是否 ≤ K进行了相应的剪枝，从而达到优化的目的\n",
    "同时使用NumPy数组代替list，在默认情况下重构计算，得到以下结果："
   ],
   "id": "85cf5f423428d4b3"
  },
  {
   "metadata": {
    "ExecuteTime": {
     "end_time": "2025-06-04T04:37:39.160297Z",
     "start_time": "2025-06-04T04:37:38.965925Z"
    }
   },
   "cell_type": "code",
   "source": [
    "import numpy as np\n",
    "import random\n",
    "import time\n",
    "\n",
    "def estimate_success_rate_numpy(n=100, k=50, t=10000):\n",
    "    success_count = 0\n",
    "    for _ in range(t):\n",
    "        # 使用 numpy 数组代替 list\n",
    "        perm = np.arange(n)\n",
    "        np.random.shuffle(perm)\n",
    "        visited = np.zeros(n, dtype=bool)\n",
    "\n",
    "        max_cycle_len = 0\n",
    "\n",
    "        for i in range(n):\n",
    "            if not visited[i]:\n",
    "                cnt = 0\n",
    "                j = i\n",
    "                while not visited[j]:\n",
    "                    visited[j] = True\n",
    "                    j = perm[j]\n",
    "                    cnt += 1\n",
    "                    if cnt > k:\n",
    "                        # 剪枝：一旦超过 k，直接判定失败，跳出外层循环\n",
    "                        max_cycle_len = cnt\n",
    "                        break\n",
    "                if cnt > k:\n",
    "                    break\n",
    "                max_cycle_len = max(max_cycle_len, cnt)\n",
    "        if max_cycle_len <= k:\n",
    "            success_count += 1\n",
    "    return success_count / t\n",
    "\n",
    "# 比较原始版本和 numpy 优化版本的运行时间\n",
    "def benchmark():\n",
    "    start = time.time()\n",
    "    rate_numpy = estimate_success_rate_numpy()\n",
    "    duration = time.time() - start\n",
    "    return rate_numpy, duration\n",
    "\n",
    "rate, cost = benchmark()\n",
    "print(\"优化后概率为：\")\n",
    "print(rate)\n",
    "print(\"优化后时间为：\")\n",
    "print(cost)"
   ],
   "id": "35506f18edc6636",
   "outputs": [
    {
     "name": "stdout",
     "output_type": "stream",
     "text": [
      "优化后概率为：\n",
      "0.3076\n",
      "优化后时间为：\n",
      "0.1743617057800293\n"
     ]
    }
   ],
   "execution_count": 15
  }
 ],
 "metadata": {
  "kernelspec": {
   "display_name": "Python 3",
   "language": "python",
   "name": "python3"
  },
  "language_info": {
   "codemirror_mode": {
    "name": "ipython",
    "version": 2
   },
   "file_extension": ".py",
   "mimetype": "text/x-python",
   "name": "python",
   "nbconvert_exporter": "python",
   "pygments_lexer": "ipython2",
   "version": "2.7.6"
  }
 },
 "nbformat": 4,
 "nbformat_minor": 5
}
