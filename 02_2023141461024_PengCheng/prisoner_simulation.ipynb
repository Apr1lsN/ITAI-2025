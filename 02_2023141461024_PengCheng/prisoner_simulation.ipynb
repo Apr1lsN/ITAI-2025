{
 "cells": [
  {
   "cell_type": "markdown",
   "id": "c48fbc36",
   "metadata": {},
   "source": [
    "# 100 囚犯抽签问题仿真实验\n",
    "\n",
    "## 编号：2025-02\n",
    "\n",
    "本实验基于 Python 语言，利用随机数仿真方法，模拟 100 囚犯抽签问题，比较以下两种策略在相同条件下的成功概率：\n",
    "\n",
    "- 随机策略\n",
    "- 循环策略\n",
    "\n",
    "通过大量实验次数，统计各策略成功率，并绘制结果图表。最后对实验结果进行分析，并与理论值进行对比。\n"
   ]
  },
  {
   "cell_type": "markdown",
   "id": "64167b06",
   "metadata": {},
   "source": [
    "## 导入必要库"
   ]
  },
  {
   "cell_type": "code",
   "execution_count": 1,
   "id": "7120339d",
   "metadata": {},
   "outputs": [],
   "source": [
    "import numpy as np  # 导入 numpy 库用于随机数与数组操作\n",
    "import matplotlib.pyplot as plt  # 导入 matplotlib 库用于绘图"
   ]
  },
  {
   "cell_type": "markdown",
   "id": "f1feb681",
   "metadata": {},
   "source": [
    "## 定义随机策略仿真函数"
   ]
  },
  {
   "cell_type": "code",
   "execution_count": 2,
   "id": "d1922520",
   "metadata": {},
   "outputs": [],
   "source": [
    "def simulate_random_strategy(N, K):\n",
    "    \"\"\"\n",
    "    随机策略：每个囚犯随机打开K个盒子寻找自己的编号。\n",
    "    参数：\n",
    "        N - 囚犯数量\n",
    "        K - 每名囚犯最大尝试次数\n",
    "    返回：\n",
    "        布尔值，表示该轮是否全体囚犯成功。\n",
    "    \"\"\"\n",
    "    boxes = np.random.permutation(N)  # 随机生成0~N-1的排列，模拟盒子编号顺序\n",
    "    for prisoner in range(N):  # 遍历每名囚犯\n",
    "        opened_boxes = np.random.choice(N, K, replace=False)  # 随机选取K个盒子\n",
    "        if prisoner not in boxes[opened_boxes]:  # 若未找到自己的编号\n",
    "            return False  # 本轮失败\n",
    "    return True  # 所有人均成功\n"
   ]
  },
  {
   "cell_type": "markdown",
   "id": "6b8a0318",
   "metadata": {},
   "source": [
    "## 定义循环策略仿真函数"
   ]
  },
  {
   "cell_type": "code",
   "execution_count": 3,
   "id": "076d8232",
   "metadata": {},
   "outputs": [],
   "source": [
    "def simulate_loop_strategy(N, K):\n",
    "    \"\"\"\n",
    "    循环策略：每个囚犯从自己编号的盒子开始，依照纸条编号跳转。\n",
    "    参数：\n",
    "        N - 囚犯数量\n",
    "        K - 每名囚犯最大尝试次数\n",
    "    返回：\n",
    "        布尔值，表示该轮是否全体囚犯成功。\n",
    "    \"\"\"\n",
    "    boxes = np.random.permutation(N)  # 随机生成0~N-1的排列，模拟盒子编号顺序\n",
    "    for prisoner in range(N):  # 遍历每名囚犯\n",
    "        attempts = 0  # 尝试次数初始化\n",
    "        next_box = prisoner  # 从自己编号的盒子开始\n",
    "        while attempts < K:\n",
    "            if boxes[next_box] == prisoner:  # 找到自己的编号\n",
    "                break\n",
    "            else:\n",
    "                next_box = boxes[next_box]  # 跳转至下一个盒子\n",
    "                attempts += 1\n",
    "        if attempts == K:  # 超出K次未找到\n",
    "            return False  # 本轮失败\n",
    "    return True  # 所有人均成功\n"
   ]
  },
  {
   "cell_type": "markdown",
   "id": "51b87e34",
   "metadata": {},
   "source": [
    "## 定义多轮仿真执行函数"
   ]
  },
  {
   "cell_type": "code",
   "execution_count": 4,
   "id": "285f1aff",
   "metadata": {},
   "outputs": [],
   "source": [
    "def run_simulation(N=100, K=50, T=10000):\n",
    "    \"\"\"\n",
    "    执行T轮仿真，分别统计随机策略与循环策略的成功次数。\n",
    "    参数：\n",
    "        N - 囚犯数量\n",
    "        K - 每名囚犯最大尝试次数\n",
    "        T - 仿真轮数\n",
    "    返回：\n",
    "        随机策略成功率与循环策略成功率\n",
    "    \"\"\"\n",
    "    random_success = 0  # 随机策略成功次数\n",
    "    loop_success = 0  # 循环策略成功次数\n",
    "\n",
    "    for _ in range(T):\n",
    "        if simulate_random_strategy(N, K):\n",
    "            random_success += 1\n",
    "        if simulate_loop_strategy(N, K):\n",
    "            loop_success += 1\n",
    "\n",
    "    random_rate = random_success / T  # 计算随机策略成功率\n",
    "    loop_rate = loop_success / T  # 计算循环策略成功率\n",
    "\n",
    "    return random_rate, loop_rate\n"
   ]
  },
  {
   "cell_type": "markdown",
   "id": "23be427c",
   "metadata": {},
   "source": [
    "## 绘制策略成功率柱状图"
   ]
  },
  {
   "cell_type": "code",
   "execution_count": 5,
   "id": "5935f6f3",
   "metadata": {},
   "outputs": [],
   "source": [
    "def plot_results(random_rate, loop_rate):\n",
    "    \"\"\"\n",
    "    绘制两种策略成功率对比柱状图。\n",
    "    参数：\n",
    "        random_rate - 随机策略成功率\n",
    "        loop_rate - 循环策略成功率\n",
    "    \"\"\"\n",
    "    strategies = ['Random Strategy', 'Loop Strategy']  # 策略名称\n",
    "    rates = [random_rate, loop_rate]  # 成功率数据\n",
    "\n",
    "    plt.bar(strategies, rates, color=['steelblue', 'seagreen'])  # 绘制柱状图\n",
    "    plt.ylabel('Success Rate')  # Y轴标签\n",
    "    plt.title('100 Prisoners Problem: Success Rate Comparison')  # 图表标题\n",
    "    plt.ylim(0, 1)  # Y轴范围\n",
    "    for i, rate in enumerate(rates):\n",
    "        plt.text(i, rate + 0.01, f\"{rate:.3f}\", ha='center')  # 显示成功率数值\n",
    "    plt.show()\n"
   ]
  },
  {
   "cell_type": "markdown",
   "id": "c6160683",
   "metadata": {},
   "source": [
    "## 绘制循环策略成功次数分布直方图"
   ]
  },
  {
   "cell_type": "code",
   "execution_count": 6,
   "id": "627b1287",
   "metadata": {},
   "outputs": [],
   "source": [
    "def plot_loop_distribution(N=100, K=50, T=10000):\n",
    "    \"\"\"\n",
    "    绘制循环策略在T轮仿真中的成功分布直方图。\n",
    "    参数：\n",
    "        N - 囚犯数量\n",
    "        K - 每名囚犯最大尝试次数\n",
    "        T - 仿真轮数\n",
    "    \"\"\"\n",
    "    success_list = []  # 用于记录每轮是否成功\n",
    "\n",
    "    for _ in range(T):\n",
    "        result = simulate_loop_strategy(N, K)\n",
    "        success_list.append(result)\n",
    "\n",
    "    plt.hist([int(x) for x in success_list], bins=2, color='seagreen', rwidth=0.8)  # 将布尔值转为0或1\n",
    "    plt.xticks([0, 1], ['Fail', 'Success'])\n",
    "    plt.ylabel('Counts')\n",
    "    plt.title('Loop Strategy: Success/Failure Distribution')\n",
    "    plt.show()\n"
   ]
  },
  {
   "cell_type": "markdown",
   "id": "abc9aa46",
   "metadata": {},
   "source": [
    "## 执行仿真并输出结果"
   ]
  },
  {
   "cell_type": "code",
   "execution_count": 7,
   "id": "bc8d14a2",
   "metadata": {},
   "outputs": [],
   "source": [
    "def main():\n",
    "    \"\"\"\n",
    "    主程序函数，设置仿真参数，执行仿真并输出结果，绘制图表。\n",
    "    \"\"\"\n",
    "    # 设置仿真参数\n",
    "    N = 100      # 囚犯数量\n",
    "    K = 50       # 每名囚犯最大尝试次数\n",
    "    T = 10000    # 仿真轮数\n",
    "\n",
    "    random_rate, loop_rate = run_simulation(N, K, T)    # 执行仿真\n",
    "\n",
    "    print(f\"Random Strategy Success Rate: {random_rate:.3f}\")   # 输出成功率\n",
    "    print(f\"Loop Strategy Success Rate: {loop_rate:.3f}\")\n",
    "\n",
    "    plot_results(random_rate, loop_rate)    # 绘制成功率对比柱状图\n",
    "\n",
    "    plot_loop_distribution(N, K, T)    # 绘制循环策略成功分布直方图\n"
   ]
  },
  {
   "cell_type": "markdown",
   "id": "cd788915",
   "metadata": {},
   "source": [
    "## 主程序入口"
   ]
  },
  {
   "cell_type": "code",
   "execution_count": 8,
   "id": "6325368e",
   "metadata": {},
   "outputs": [
    {
     "name": "stdout",
     "output_type": "stream",
     "text": [
      "Random Strategy Success Rate: 0.000\n",
      "Loop Strategy Success Rate: 0.311\n"
     ]
    },
    {
     "data": {
      "image/png": "[encoded data removed]",
      "text/plain": [
       "<Figure size 640x480 with 1 Axes>"
      ]
     },
     "metadata": {},
     "output_type": "display_data"
    },
    {
     "data": {
      "image/png": "[encoded data removed]",
      "text/plain": [
       "<Figure size 640x480 with 1 Axes>"
      ]
     },
     "metadata": {},
     "output_type": "display_data"
    }
   ],
   "source": [
    "if __name__ == \"__main__\":\n",
    "    main()  # 调用主函数"
   ]
  },
  {
   "cell_type": "markdown",
   "id": "18d951c1",
   "metadata": {},
   "source": [
    "## 理论计算最优策略的成功率（基于排列循环理论）\n",
    "\n",
    "\n",
    "\n",
    "### 成功概率表达式\n",
    "\n",
    "令 $L_{\\max}$ 表示随机排列最大循环长度，则成功概率为：\n",
    "$\n",
    "P_{\\text{success}} = P(L_{\\max} \\leq K)\n",
    "$\n",
    "\n",
    "根据排列循环理论，$P(L_{\\max} \\leq K)$ 的计算可以用**包含排除原理**及**斯特林数**展开，但较为复杂。\n",
    "\n",
    "\n",
    "### 近似计算方法\n",
    "\n",
    "最大循环长度超过 $K$ 的概率近似为：\n",
    "$\n",
    "P(L_{\\max} > K) \\approx \\sum_{l=K+1}^{N} \\frac{1}{l}\n",
    "$\n",
    "\n",
    "因此成功概率约为：\n",
    "$\n",
    "P_{\\text{success}} \\approx 1 - \\sum_{l=K+1}^{N} \\frac{1}{l} = \\prod_{i=K+1}^{N} \\left(1 - \\frac{1}{i}\\right)\n",
    "$\n",
    "\n",
    "\n",
    "### 数值示例\n",
    "\n",
    "当 $N=100$, $K=50$ 时，计算得：\n",
    "$\n",
    "P_{\\text{success}} \\approx \\prod_{i=51}^{100} \\left(1 - \\frac{1}{i}\\right) \\approx 0.3118\n",
    "$\n",
    "\n",
    "即约为31.18%。\n",
    "\n",
    "### 实际对比\n",
    "\n",
    "- **随机策略** 成功率远低，趋近于 $ (0.5)^{100} $，几乎为 0。\n",
    "- **循环策略** 成功率约为 31%，符合理论值 31.18%。\n",
    "\n",
    "### 结论\n",
    "\n",
    "- 循环策略利用排列循环结构，显著提高成功概率。\n",
    "- 理论成功率约31.18%，远高于随机策略的极低概率。\n"
   ]
  }
 ],
 "metadata": {
  "kernelspec": {
   "display_name": "Python 3",
   "language": "python",
   "name": "python3"
  },
  "language_info": {
   "codemirror_mode": {
    "name": "ipython",
    "version": 3
   },
   "file_extension": ".py",
   "mimetype": "text/x-python",
   "name": "python",
   "nbconvert_exporter": "python",
   "pygments_lexer": "ipython3",
   "version": "3.12.3"
  }
 },
 "nbformat": 4,
 "nbformat_minor": 5
}
