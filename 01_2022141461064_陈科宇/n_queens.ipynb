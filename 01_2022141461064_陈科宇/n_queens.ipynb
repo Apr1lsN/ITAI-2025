{
 "cells": [
  {
   "cell_type": "markdown",
   "id": "5ffd7eb1",
   "metadata": {},
   "source": [
    "# N 皇后问题"
   ]
  },
  {
   "cell_type": "markdown",
   "id": "ee4d936d",
   "metadata": {},
   "source": [
    "## 问题"
   ]
  },
  {
   "cell_type": "markdown",
   "id": "dd55a713",
   "metadata": {},
   "source": [
    "在 N×N 的棋盘上放置 N 个皇后，使得它们互不攻击（即任意两个皇后不能在同一行、同一列或同一对角线上）。编写程序，对给定的正整数 N（N≥4），输出所有可能的解（或至少一个解），并分析算法效率。"
   ]
  },
  {
   "cell_type": "markdown",
   "id": "910c37cc",
   "metadata": {},
   "source": [
    "## 思路"
   ]
  },
  {
   "cell_type": "markdown",
   "id": "294c8792",
   "metadata": {},
   "source": [
    "使用 回溯法。\n",
    "\n",
    "定义 queen(col, row) 返回 一个 col 列 row 行的棋盘八皇后解 x 个解法，每个解法是一个 row 个元素长的数组，其中每个数字的范围为 [0, col-1] 表示目前每一行的棋子的列号\n",
    "\n",
    "则 queen(n, i) 的伪代码如下\n",
    "\n",
    "定义 结果数组 result\n",
    "\n",
    "先得到 queen(n, i-1) 的解法 sols\n",
    "\n",
    "for sol in sols:\n",
    "\n",
    "    for step in range(col):\n",
    "\n",
    "        if check(sol, step):\n",
    "\n",
    "            result.append(sol + step)\n",
    "\n",
    "返回结果数组 result"
   ]
  },
  {
   "cell_type": "markdown",
   "id": "8b34ab67",
   "metadata": {},
   "source": [
    "## 代码实现"
   ]
  },
  {
   "cell_type": "markdown",
   "id": "06d684f6",
   "metadata": {},
   "source": [
    "### 导入需要使用的包"
   ]
  },
  {
   "cell_type": "code",
   "execution_count": 2,
   "id": "2c9e8879",
   "metadata": {},
   "outputs": [],
   "source": [
    "from line_profiler import profile\n",
    "import matplotlib.pyplot as plt\n",
    "import time"
   ]
  },
  {
   "cell_type": "markdown",
   "id": "5c03b322",
   "metadata": {},
   "source": [
    "### 最普通的回溯法版本"
   ]
  },
  {
   "cell_type": "code",
   "execution_count": 3,
   "id": "5c287ca3",
   "metadata": {},
   "outputs": [],
   "source": [
    "# 检查在当前已经存在的棋子情况下，step是否合法\n",
    "def check(sol, step):\n",
    "    row = len(sol) # 已经走了的行数\n",
    "    col = step     # 试图走的列号\n",
    "    for i, j in enumerate(sol): # 遍历所有已经走了的棋子\n",
    "        if col == j or abs(row - i) == abs(col - j): # 如果会冲突\n",
    "            return False\n",
    "    return True"
   ]
  },
  {
   "cell_type": "code",
   "execution_count": 4,
   "id": "ee0d9650",
   "metadata": {},
   "outputs": [],
   "source": [
    "# 核心回溯算法\n",
    "@profile # 方便后面进行代码行级速度比较\n",
    "def queen(col, row):\n",
    "    if row == 0:\n",
    "        return [[]]\n",
    "    result = []\n",
    "    sols = queen(col, row-1)\n",
    "    for sol in sols:\n",
    "        for step in range(col):\n",
    "            if check(sol, step):\n",
    "                result.append(sol + [step])\n",
    "\n",
    "    return result"
   ]
  },
  {
   "cell_type": "code",
   "execution_count": 5,
   "id": "f1812d02",
   "metadata": {},
   "outputs": [],
   "source": [
    "# 绘制字符画结果\n",
    "def show(sol):\n",
    "    n = len(sol)\n",
    "    for row, col in enumerate(sol):\n",
    "        for j in range(n):\n",
    "            if col == j:\n",
    "                print(\"Q\", end=' ')\n",
    "            else:\n",
    "                print(\"#\", end=' ')\n",
    "        print()\n",
    "    print()"
   ]
  },
  {
   "cell_type": "markdown",
   "id": "ea6498aa",
   "metadata": {},
   "source": [
    "#### 测试"
   ]
  },
  {
   "cell_type": "code",
   "execution_count": 6,
   "id": "ebc1689c",
   "metadata": {},
   "outputs": [],
   "source": [
    "# 测试\n",
    "def test(n):\n",
    "    sols = queen(n, n)\n",
    "    print(f\"Total count of solutions: {len(sols)}\")\n",
    "    # 只显示第一个解防止太多输出\n",
    "    show(sols[0])"
   ]
  },
  {
   "cell_type": "code",
   "execution_count": 7,
   "id": "92748806",
   "metadata": {},
   "outputs": [
    {
     "name": "stdout",
     "output_type": "stream",
     "text": [
      "Total count of solutions: 2\n",
      "# Q # # \n",
      "# # # Q \n",
      "Q # # # \n",
      "# # Q # \n",
      "\n",
      "Total count of solutions: 92\n",
      "Q # # # # # # # \n",
      "# # # # Q # # # \n",
      "# # # # # # # Q \n",
      "# # # # # Q # # \n",
      "# # Q # # # # # \n",
      "# # # # # # Q # \n",
      "# Q # # # # # # \n",
      "# # # Q # # # # \n",
      "\n"
     ]
    }
   ],
   "source": [
    "# 四皇后\n",
    "test(4)\n",
    "# 八皇后\n",
    "test(8)"
   ]
  },
  {
   "cell_type": "markdown",
   "id": "abe26c86",
   "metadata": {},
   "source": [
    "### 位运算加剪枝优化"
   ]
  },
  {
   "cell_type": "markdown",
   "id": "22f99e35",
   "metadata": {},
   "source": [
    "使用位运算可以大大提高效率：\n",
    "1. 使用二进制位表示每一行/列/对角线是否被占用\n",
    "2. 使用位运算代替数组操作和循环判断\n",
    "3. 使用剪枝策略减少搜索空间"
   ]
  },
  {
   "cell_type": "code",
   "execution_count": 8,
   "id": "52b51c40",
   "metadata": {},
   "outputs": [],
   "source": [
    "@profile\n",
    "def solve_n_queens_bits(n):\n",
    "    \"\"\"\n",
    "    使用位运算解决N皇后问题\n",
    "    \n",
    "    参数:\n",
    "        n: 棋盘大小和皇后数量\n",
    "        \n",
    "    返回:\n",
    "        solutions: 所有可能的解法列表\n",
    "    \"\"\"\n",
    "    solutions = []\n",
    "    \n",
    "    def backtrack(row, cols, diag1, diag2, current_solution):\n",
    "        \"\"\"\n",
    "        回溯函数 - 使用位运算处理约束条件\n",
    "        \n",
    "        参数:\n",
    "            row: 当前处理的行号\n",
    "            cols: 列的占用情况(二进制表示)\n",
    "            diag1: 主对角线占用情况(二进制表示)\n",
    "            diag2: 副对角线占用情况(二进制表示)\n",
    "            current_solution: 当前解法\n",
    "        \"\"\"\n",
    "        if row == n:  # 找到一个解\n",
    "            solutions.append(current_solution[:])\n",
    "            return\n",
    "        \n",
    "        # 获取所有可用位置\n",
    "        # (1 << n) - 1 创建n位全1的掩码\n",
    "        # ~(cols | diag1 | diag2) 获取所有未被占用的位置\n",
    "        # & ((1 << n) - 1) 确保只考虑n个位置\n",
    "        available_positions = ~(cols | diag1 | diag2) & ((1 << n) - 1)\n",
    "        \n",
    "        # 当还有可用位置时继续尝试\n",
    "        while available_positions:\n",
    "            # 获取最右边的1(即最右边的可用位置)\n",
    "            pos = available_positions & (-available_positions)\n",
    "            # 获取这个位置对应的列号\n",
    "            col = bin(pos - 1).count('1')\n",
    "            \n",
    "            # 更新当前解\n",
    "            current_solution[row] = col\n",
    "            \n",
    "            # 递归到下一行\n",
    "            # 更新约束条件:\n",
    "            # cols | pos: 更新列的占用情况\n",
    "            # (diag1 | pos) << 1: 更新主对角线占用情况\n",
    "            # (diag2 | pos) >> 1: 更新副对角线占用情况\n",
    "            backtrack(row + 1,\n",
    "                     cols | pos,\n",
    "                     (diag1 | pos) << 1,\n",
    "                     (diag2 | pos) >> 1,\n",
    "                     current_solution)\n",
    "            \n",
    "            # 移除最右边的1，尝试下一个位置\n",
    "            available_positions &= (available_positions - 1)\n",
    "    \n",
    "    # 初始化一个解\n",
    "    initial_solution = [0] * n\n",
    "    # 从第0行开始回溯\n",
    "    backtrack(0, 0, 0, 0, initial_solution)\n",
    "    \n",
    "    return solutions"
   ]
  },
  {
   "cell_type": "markdown",
   "id": "c0b41060",
   "metadata": {},
   "source": [
    "#### 测试"
   ]
  },
  {
   "cell_type": "code",
   "execution_count": 9,
   "id": "8611eb8e",
   "metadata": {},
   "outputs": [],
   "source": [
    "def test_bits(n):\n",
    "    \"\"\"\n",
    "    测试位运算优化版本的N皇后算法\n",
    "    \n",
    "    参数:\n",
    "        n: 棋盘大小和皇后数量\n",
    "    \"\"\"\n",
    "    sols = solve_n_queens_bits(n)\n",
    "    print(f\"Total count of solutions: {len(sols)}\")\n",
    "    # 只显示第一个解防止太多输出\n",
    "    show(sols[0])"
   ]
  },
  {
   "cell_type": "code",
   "execution_count": 10,
   "id": "02b93930",
   "metadata": {},
   "outputs": [
    {
     "name": "stdout",
     "output_type": "stream",
     "text": [
      "Total count of solutions: 2\n",
      "# Q # # \n",
      "# # # Q \n",
      "Q # # # \n",
      "# # Q # \n",
      "\n",
      "Total count of solutions: 92\n",
      "Q # # # # # # # \n",
      "# # # # Q # # # \n",
      "# # # # # # # Q \n",
      "# # # # # Q # # \n",
      "# # Q # # # # # \n",
      "# # # # # # Q # \n",
      "# Q # # # # # # \n",
      "# # # Q # # # # \n",
      "\n"
     ]
    }
   ],
   "source": [
    "test_bits(4)\n",
    "\n",
    "test_bits(8)"
   ]
  },
  {
   "cell_type": "markdown",
   "id": "a15ce571",
   "metadata": {},
   "source": [
    "### 性能比较"
   ]
  },
  {
   "cell_type": "code",
   "execution_count": 11,
   "id": "46347062",
   "metadata": {},
   "outputs": [
    {
     "name": "stdout",
     "output_type": "stream",
     "text": [
      "比较原始版本和位运算优化版本的性能：\n",
      "\n",
      "N\t原始版本(s)\t位运算版本(s)\n",
      "----------------------------------------\n",
      "4\t0.000000\t0.000000\n",
      "5\t0.000000\t0.000000\n",
      "6\t0.000000\t0.000000\n",
      "7\t0.003088\t0.000000\n",
      "8\t0.005990\t0.001001\n",
      "9\t0.033464\t0.004973\n",
      "10\t0.189338\t0.015727\n",
      "11\t0.853005\t0.125798\n",
      "12\t5.357095\t0.446396\n"
     ]
    }
   ],
   "source": [
    "# 对比原始版本和位运算优化版本的性能\n",
    "def compare_performance(max_n=12):\n",
    "    import time\n",
    "    print(\"比较原始版本和位运算优化版本的性能：\")\n",
    "    print(\"\\nN\\t原始版本(s)\\t位运算版本(s)\")\n",
    "    print(\"-\" * 40)\n",
    "    \n",
    "    for n in range(4, max_n+1):\n",
    "        # 测试原始版本\n",
    "        start = time.time()\n",
    "        queen(n, n)\n",
    "        original_time = time.time() - start\n",
    "        \n",
    "        # 测试位运算版本\n",
    "        start = time.time()\n",
    "        solve_n_queens_bits(n)\n",
    "        optimized_time = time.time() - start\n",
    "        \n",
    "        print(f\"{n}\\t{original_time:.6f}\\t{optimized_time:.6f}\")\n",
    "\n",
    "compare_performance(12)"
   ]
  },
  {
   "cell_type": "markdown",
   "id": "9bc65393",
   "metadata": {},
   "source": [
    "代码行级性能分析"
   ]
  },
  {
   "cell_type": "code",
   "execution_count": 12,
   "id": "e9ddf200",
   "metadata": {},
   "outputs": [
    {
     "name": "stdout",
     "output_type": "stream",
     "text": [
      "Timer unit: 1e-07 s\n",
      "\n",
      "Total time: 36.1562 s\n",
      "File: C:\\Users\\18499\\AppData\\Local\\Temp\\ipykernel_26524\\389296870.py\n",
      "Function: queen at line 2\n",
      "\n",
      "Line #      Hits         Time  Per Hit   % Time  Line Contents\n",
      "==============================================================\n",
      "     2                                           @profile # 方便后面进行代码行级速度比较\n",
      "     3                                           def queen(col, row):\n",
      "     4        13         41.0      3.2      0.0      if row == 0:\n",
      "     5         1          4.0      4.0      0.0          return [[]]\n",
      "     6        12         37.0      3.1      0.0      result = []\n",
      "     7        12         67.0      5.6      0.0      sols = queen(col, row-1)\n",
      "     8    842001    1470622.0      1.7      0.4      for sol in sols:\n",
      "     9  10945857   22347544.0      2.0      6.2          for step in range(col):\n",
      "    10  10103868  334031933.0     33.1     92.4              if check(sol, step):\n",
      "    11    856188    3711994.0      4.3      1.0                  result.append(sol + [step])\n",
      "    12                                           \n",
      "    13        12         24.0      2.0      0.0      return result"
     ]
    }
   ],
   "source": [
    "%reload_ext line_profiler\n",
    "%lprun -f queen queen(12, 12)"
   ]
  },
  {
   "cell_type": "markdown",
   "id": "db3fe7f4",
   "metadata": {},
   "source": [
    "可以看到当数量比较多的时候大约有10倍的性能提升\n",
    "\n",
    "原因就在于使用位运算标记棋盘占用情况不需要通过遍历就能直接知道当前还可以放置棋子的位置，省去了check()函数消耗的大量时间。"
   ]
  },
  {
   "cell_type": "markdown",
   "id": "929f7974",
   "metadata": {},
   "source": [
    "## 实验分析"
   ]
  },
  {
   "cell_type": "markdown",
   "id": "5d30508a",
   "metadata": {},
   "source": [
    "### 时间复杂度理论分析"
   ]
  },
  {
   "cell_type": "markdown",
   "id": "02642107",
   "metadata": {},
   "source": [
    "最普通的回溯法本质上就是在搜索一个n叉树，寻找所有合法的解。\n",
    "\n",
    "所以时间复杂度是 $O(n^n)$"
   ]
  },
  {
   "cell_type": "markdown",
   "id": "727dd9ab",
   "metadata": {},
   "source": [
    "### 时间增长曲线"
   ]
  },
  {
   "cell_type": "code",
   "execution_count": 13,
   "id": "e7e1f5b0",
   "metadata": {},
   "outputs": [],
   "source": [
    "def time_stats(max_n):\n",
    "    import time\n",
    "    stats = []\n",
    "    for i in range(1, max_n+1):\n",
    "        start_time = time.time()\n",
    "        queen(i, i)\n",
    "        end_time = time.time()\n",
    "        stats.append(end_time - start_time)\n",
    "    return stats"
   ]
  },
  {
   "cell_type": "code",
   "execution_count": 20,
   "id": "cb89c3ce",
   "metadata": {},
   "outputs": [],
   "source": [
    "time_stats_data = time_stats(12)\n",
    "pow_nn = [n**n for n in range(12)]"
   ]
  },
  {
   "cell_type": "code",
   "execution_count": 21,
   "id": "be030ef9",
   "metadata": {},
   "outputs": [
    {
     "data": {
      "image/png": "[encoded data removed]",
      "text/plain": [
       "<Figure size 1000x500 with 2 Axes>"
      ]
     },
     "metadata": {},
     "output_type": "display_data"
    }
   ],
   "source": [
    "import matplotlib.pyplot as plt\n",
    "plt.figure(figsize=(10, 5))\n",
    "plt.subplot(121)\n",
    "plt.ylabel(\"time(s)\")\n",
    "plt.xlabel(\"n\")\n",
    "plt.plot(time_stats_data)\n",
    "plt.subplot(122)\n",
    "plt.ylabel(\"number\")\n",
    "plt.xlabel(\"n\")\n",
    "plt.plot(pow_nn)\n",
    "plt.show()"
   ]
  }
 ],
 "metadata": {
  "kernelspec": {
   "display_name": "base",
   "language": "python",
   "name": "python3"
  },
  "language_info": {
   "codemirror_mode": {
    "name": "ipython",
    "version": 3
   },
   "file_extension": ".py",
   "mimetype": "text/x-python",
   "name": "python",
   "nbconvert_exporter": "python",
   "pygments_lexer": "ipython3",
   "version": "3.11.9"
  }
 },
 "nbformat": 4,
 "nbformat_minor": 5
}
