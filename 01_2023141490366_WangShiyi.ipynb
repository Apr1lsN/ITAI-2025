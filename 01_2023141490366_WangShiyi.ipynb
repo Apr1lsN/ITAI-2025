{
 "cells": [
  {
   "cell_type": "code",
   "execution_count": null,
   "id": "e82cb3e9-d001-4a98-a763-840acb6f63d2",
   "metadata": {},
   "outputs": [],
   "source": [
    "import time  \n",
    "\n",
    "n = int(input(\"input number of queens:\"))\n",
    "\n",
    "g = [['.' for _ in range(n)] for _ in range(n)]\n",
    "\n",
    "col = [False]*n\n",
    "\n",
    "dg = [False]*(2*n)\n",
    "\n",
    "udg = [False]*(2*n)\n",
    "\n",
    "N = 0\n",
    "\n",
    "\n",
    "\n",
    "\n",
    "def dfs(u):\n",
    "    global N  #声明 N 为全局变量\n",
    "    if u == n:\n",
    "        #打印当前的解\n",
    "        for row in g:\n",
    "            print(''.join(row))\n",
    "        print()\n",
    "        N += 1  #在找到一个有效解时增加计数\n",
    "        return\n",
    "    for y in range(n):\n",
    "        #检查是否可以放置皇后\n",
    "        if not col[y] and not dg[y-u+n] and not udg[y+u]:\n",
    "            col[y] = True\n",
    "            dg[y-u+n] = True\n",
    "            udg[y+u] = True\n",
    "            \n",
    "            g[u][y] = 'Q'\n",
    "\n",
    "            dfs(u+1)\n",
    "            \n",
    "            #回溯，重置状态\n",
    "            col[y] = False \n",
    "            dg[y-u+n] = False\n",
    "            udg[y+u] = False\n",
    "            \n",
    "            g[u][y] = '.'\n",
    "\n",
    "\n",
    "if n < 4:\n",
    "    print(\"invalid input\")\n",
    "else:\n",
    "    start_time = time.time()  # 开始时间\n",
    "    dfs(0)\n",
    "    print(\"Total solutions:\", N)  #输出解的总数量\n",
    "    end_time = time.time()    # 结束时间\n",
    "\n",
    "    print(f\"Execution time: {end_time - start_time:.6f} seconds\")\n",
    "\n"
   ]
  }
 ],
 "metadata": {
  "kernelspec": {
   "display_name": "Python 3 (ipykernel)",
   "language": "python",
   "name": "python3"
  },
  "language_info": {
   "codemirror_mode": {
    "name": "ipython",
    "version": 3
   },
   "file_extension": ".py",
   "mimetype": "text/x-python",
   "name": "python",
   "nbconvert_exporter": "python",
   "pygments_lexer": "ipython3",
   "version": "3.12.7"
  }
 },
 "nbformat": 4,
 "nbformat_minor": 5
}
