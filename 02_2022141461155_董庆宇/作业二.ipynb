{
 "cells": [
  {
   "cell_type": "code",
   "execution_count": 1,
   "id": "a6f5aac7-c940-4a7a-ab80-639bdba2cdd5",
   "metadata": {},
   "outputs": [],
   "source": [
    "import random\n",
    "import numpy as np\n",
    "import matplotlib.pyplot as plt\n",
    "\n",
    "random.seed(3)\n",
    "\n",
    "#返回单次是否成功\n",
    "def box_game_success(strategy, box_count=100, choice_count=50, day_count=1):\n",
    "\n",
    "    def once_play_success():\n",
    "        for i in range(day_count):\n",
    "            if is_oneday_success():\n",
    "                return True\n",
    "        return False\n",
    "\n",
    "    def is_oneday_success():\n",
    "        return strategy(box_count, choice_count)\n",
    "\n",
    "    return once_play_success()\n",
    "\n",
    "\n",
    "def cyclical_strategy(box_count, choice_count):\n",
    "    boxes = list(range(box_count))\n",
    "    random.shuffle(boxes)\n",
    "    success_people_nums = 0\n",
    "\n",
    "    for person in range(box_count):\n",
    "        choice = person\n",
    "        for _ in range(choice_count):\n",
    "            if boxes[choice] == person:\n",
    "                success_people_nums += 1\n",
    "                break\n",
    "            else:\n",
    "                choice = boxes[choice]\n",
    "\n",
    "    return success_people_nums == box_count\n",
    "\n",
    "\n",
    "def random_strategy(box_count, choice_count):\n",
    "    boxes = list(range(box_count))\n",
    "    random.shuffle(boxes)\n",
    "    success_people_nums = 0\n",
    "\n",
    "    choice_list = list(range(choice_count))\n",
    "    random.shuffle(choice_list)\n",
    "    for person in range(box_count):\n",
    "        for i in range(choice_count):\n",
    "            choice = choice_list[i]\n",
    "            if boxes[choice] == person:\n",
    "                success_people_nums += 1\n",
    "                break\n",
    "\n",
    "    return success_people_nums == box_count"
   ]
  },
  {
   "cell_type": "code",
   "execution_count": 2,
   "id": "22966a57-c4d5-4285-92a6-fe5d9fb4d02a",
   "metadata": {},
   "outputs": [],
   "source": [
    "def success_rate(num_of_times, strategy, box_count=100, choice_count=50, day_count=1):\n",
    "    success_times = 0\n",
    "    for i in range(num_of_times):\n",
    "        if box_game_success(strategy, box_count, choice_count, day_count):\n",
    "            success_times += 1\n",
    "\n",
    "    rate = success_times / num_of_times\n",
    "    return rate\n",
    "\n",
    "\n",
    "def time_till_success(strategy, box_count=100, choice_count=50, day_count=1):\n",
    "    time_passed = 1\n",
    "    while not box_game_success(strategy, box_count, choice_count, day_count):\n",
    "        time_passed += 1\n",
    "    return time_passed"
   ]
  },
  {
   "cell_type": "code",
   "execution_count": 3,
   "id": "5b089986-3ac3-4d1f-b848-013be2690888",
   "metadata": {},
   "outputs": [
    {
     "data": {
      "text/plain": [
       "0.3223"
      ]
     },
     "execution_count": 3,
     "metadata": {},
     "output_type": "execute_result"
    }
   ],
   "source": [
    "success_rate(10000, cyclical_strategy)"
   ]
  },
  {
   "cell_type": "code",
   "execution_count": 4,
   "id": "648ee544-75b0-4738-8b8a-0015c091a8ed",
   "metadata": {},
   "outputs": [
    {
     "data": {
      "text/plain": [
       "0.0"
      ]
     },
     "execution_count": 4,
     "metadata": {},
     "output_type": "execute_result"
    }
   ],
   "source": [
    "success_rate(10000, random_strategy)"
   ]
  },
  {
   "cell_type": "code",
   "execution_count": null,
   "id": "937a9f26-00dc-4d91-90ab-f5eadc811721",
   "metadata": {},
   "outputs": [],
   "source": []
  },
  {
   "cell_type": "code",
   "execution_count": null,
   "id": "cd889602-1bae-4d41-b771-598fa4bad246",
   "metadata": {},
   "outputs": [],
   "source": []
  },
  {
   "cell_type": "code",
   "execution_count": 5,
   "id": "fe0263d7-52fa-427c-a861-8bebcc1fb335",
   "metadata": {},
   "outputs": [
    {
     "data": {
      "image/png": "[encoded data removed]",
      "text/plain": [
       "<Figure size 640x480 with 1 Axes>"
      ]
     },
     "metadata": {},
     "output_type": "display_data"
    }
   ],
   "source": [
    "# 统计循环策略中一直尝试直到成功的时间\n",
    "stats_time = 1000\n",
    "time_data = [time_till_success(cyclical_strategy) for _ in range(stats_time)]\n",
    "plt.hist(time_data)\n",
    "plt.title('graph')\n",
    "plt.xlabel('day')\n",
    "plt.ylabel('frequent')\n",
    "plt.show()"
   ]
  },
  {
   "cell_type": "code",
   "execution_count": 6,
   "id": "fc8dede6-b0d7-48c7-8f40-c9815e6a37a5",
   "metadata": {},
   "outputs": [
    {
     "name": "stdout",
     "output_type": "stream",
     "text": [
      "完全向量化模拟 100000 次，囚犯 100 人，最大尝试 50 次。\n",
      "成功获释的概率：0.3119\n"
     ]
    }
   ],
   "source": [
    "# 针对大规模的模拟，进行向量化\n",
    "def box_game_vectorized(num_prisoners=100, max_attempts=50, num_simulations=10000):\n",
    "\n",
    "    # 初始化所有模拟批次的盒子\n",
    "    # 创建一个 (num_simulations, num_prisoners) 形状的数组\n",
    "    boxes = np.argsort(np.random.rand(num_simulations, num_prisoners), axis=1)\n",
    "\n",
    "    # 初始时，每个囚犯从自己的编号对应的盒子开始查找 (0-indexed)\n",
    "    # current_box_indices 形状: (num_simulations, num_prisoners)\n",
    "    current_box_indices = np.tile(np.arange(num_prisoners), (num_simulations, 1))\n",
    "\n",
    "    # 记录每个模拟批次中每个囚犯是否已找到自己的编号\n",
    "    # found_self 形状: (num_simulations, num_prisoners)\n",
    "    found_self = np.zeros((num_simulations, num_prisoners), dtype=bool)\n",
    "\n",
    "    # 循环进行查找，直到所有囚犯在某个批次中都找到或者达到最大尝试次数\n",
    "    for attempt in range(max_attempts):\n",
    "\n",
    "        # 根据当前盒子索引获取盒子里面的纸条编号\n",
    "        # next_box_indices 形状: (num_simulations, num_prisoners)\n",
    "        next_box_indices = np.take_along_axis(boxes, current_box_indices, axis=1)\n",
    "\n",
    "        # 检查哪些囚犯在当前步骤找到了自己的编号\n",
    "        # found_current_step 形状: (num_simulations, num_prisoners)\n",
    "        found_current_step = (next_box_indices == np.arange(num_prisoners))\n",
    "\n",
    "        # 更新 found_self\n",
    "        found_self = found_self | found_current_step\n",
    "\n",
    "        # 更新 current_box_indices\n",
    "        # 只有那些还没找到自己的囚犯才需要更新他们的下一个查看的盒子\n",
    "        current_box_indices = np.where(found_self, current_box_indices, next_box_indices)\n",
    "\n",
    "    # 判断每个模拟批次是否成功：该批次中的所有囚犯都找到了自己的编号\n",
    "    # successes_per_simulation 形状: (num_simulations,)\n",
    "    successes_per_simulation = np.all(found_self, axis=1)\n",
    "\n",
    "    # 计算成功批次的数量\n",
    "    success_count = np.sum(successes_per_simulation)\n",
    "\n",
    "    return success_count / num_simulations\n",
    "\n",
    "\n",
    "num_prisoners = 100\n",
    "max_attempts = 50\n",
    "num_simulations = 100000\n",
    "\n",
    "print(f\"完全向量化模拟 {num_simulations} 次，囚犯 {num_prisoners} 人，最大尝试 {max_attempts} 次。\")\n",
    "probability = box_game_vectorized(num_prisoners, max_attempts, num_simulations)\n",
    "print(f\"成功获释的概率：{probability:.4f}\")"
   ]
  },
  {
   "cell_type": "code",
   "execution_count": 7,
   "id": "23d6318c-f888-437c-9bd3-fb264e5a8135",
   "metadata": {},
   "outputs": [
    {
     "name": "stdout",
     "output_type": "stream",
     "text": [
      "0.3226\n",
      "0.3141\n"
     ]
    }
   ],
   "source": [
    "# 不同的囚犯数和尝试次数\n",
    "print(success_rate(10000, cyclical_strategy, 50, 25))\n",
    "print(success_rate(10000, cyclical_strategy, 200, 100))"
   ]
  },
  {
   "cell_type": "markdown",
   "id": "6af557e4-f1bb-4a5a-bef7-6fb9b28bb926",
   "metadata": {},
   "source": [
    "## 成功概率的计算\n",
    "\n",
    "问题可转化为：在一个随机排列中，最长循环的长度不超过 $N/2$ 的概率是多少？ （其中 $N=100$）\n",
    "\n",
    "这个概率的计算涉及排列理论。对于一个包含 $N$ 个元素的排列，其中最长循环长度超过 $N/2$ 的情况，只可能存在一个这样的长循环。如果存在一个长度为 $k$ 的循环 ($k > N/2$)，那么这个排列就失败了。\n",
    "\n",
    "失败的概率是所有可能存在的最长循环长度 $k$ 超过 $N/2$ 的概率之和。\n",
    "$P(\\text{失败}) = P(L=51) + P(L=52) + \\dots + P(L=100)$\n",
    "\n",
    "对于一个 $N$ 元素的随机排列，出现一个长度为 $k$ 的循环的概率是 $1/k$。\n",
    "因此，失败的概率可以近似表示为：\n",
    "$P(\\text{失败}) \\approx \\sum_{k=N/2 + 1}^{N} \\frac{1}{k}$\n",
    "$P(\\text{失败}) = \\frac{1}{51} + \\frac{1}{52} + \\dots + \\frac{1}{100}$\n",
    "\n",
    "这个求和被称为调和级数的一部分。\n",
    "$\\sum_{k=51}^{100} \\frac{1}{k} \\approx \\ln(100) - \\ln(50) = \\ln(2) \\approx 0.693$\n",
    "\n",
    "因此，成功的概率 $P(\\text{成功}) = 1 - P(\\text{失败})$\n",
    "$P(\\text{成功}) \\approx 1 - \\ln(2) \\approx 1 - 0.693 = 0.307$\n",
    "\n",
    "这意味着，通过采用这种链式追踪策略，囚犯们集体获释的概率大约是 30.7%。"
   ]
  },
  {
   "cell_type": "code",
   "execution_count": null,
   "id": "bd5e984a-6b17-4ecd-b818-e51ae05b7972",
   "metadata": {},
   "outputs": [],
   "source": []
  }
 ],
 "metadata": {
  "kernelspec": {
   "display_name": "Python 3 (ipykernel)",
   "language": "python",
   "name": "python3"
  },
  "language_info": {
   "codemirror_mode": {
    "name": "ipython",
    "version": 3
   },
   "file_extension": ".py",
   "mimetype": "text/x-python",
   "name": "python",
   "nbconvert_exporter": "python",
   "pygments_lexer": "ipython3",
   "version": "3.12.4"
  }
 },
 "nbformat": 4,
 "nbformat_minor": 5
}
