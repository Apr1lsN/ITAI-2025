{
 "cells": [
  {
   "cell_type": "markdown",
   "metadata": {},
   "source": [
    "# 100 囚徒问题仿真"
   ]
  },
  {
   "cell_type": "markdown",
   "metadata": {},
   "source": [
    "## **问题背景**\n"
   ]
  },
  {
   "cell_type": "markdown",
   "metadata": {},
   "source": [
    "\n",
    "*和最经典的问题不太一样，改了一下*\n",
    "\n",
    "有100个囚徒，编号从1到100。\n",
    "\n",
    "监狱长将100个编号随机放入100个盒子里，每个盒子一个编号。\n",
    "\n",
    "所有囚徒每天都可以进入房间，打开最多50个盒子，寻找自己的编号。\n",
    "\n",
    "当所有囚徒都找到了自己的编号后，就会释放出所有囚徒。\n",
    "\n",
    "否则一个也不释放，下一天接着进行同样的游戏，不过盒子中的编号不同（和原版不太一样）"
   ]
  },
  {
   "cell_type": "markdown",
   "metadata": {},
   "source": [
    "## **建模**"
   ]
  },
  {
   "cell_type": "markdown",
   "metadata": {},
   "source": [
    "整个问题的过程可以描述为一下的模式\n",
    "\n",
    "首先有一个长度为n的数组，里面存放的是0到n-1的数字。\n",
    "\n",
    "然后，同时也有n个囚徒，每个囚徒都有自己的编号0到n-1，它们可以对数据进行至多k次的随机查询，一旦查询到的数字等于自己的编号，则该囚徒就被释放。\n",
    "\n",
    "然后，每一天，还未被释放的囚徒都会进行如上的查询过程，一直到所有囚徒都找到自己的编号为止。"
   ]
  },
  {
   "cell_type": "markdown",
   "metadata": {},
   "source": [
    "## **代码实现**"
   ]
  },
  {
   "cell_type": "markdown",
   "metadata": {},
   "source": [
    "我们使用代码来模拟上述的过程"
   ]
  },
  {
   "cell_type": "code",
   "execution_count": 25,
   "metadata": {},
   "outputs": [],
   "source": [
    "# 包导入\n",
    "import random"
   ]
  },
  {
   "cell_type": "markdown",
   "metadata": {},
   "source": [
    "创建囚徒类"
   ]
  },
  {
   "cell_type": "code",
   "execution_count": 26,
   "metadata": {},
   "outputs": [],
   "source": [
    "SUCCESS = 1\n",
    "FAILURE = 0\n",
    "\n",
    "class Prisoner:\n",
    "    def __init__(self, number):\n",
    "        self.number = number\n",
    "\n",
    "    # 随机找号\n",
    "    def choose_randomly(self, boxes, k):\n",
    "        n = len(boxes)\n",
    "        targets = random.sample(range(n), k) # 随机决定要找的盒子\n",
    "        # print(f\"Prisoner {self.number} is looking for boxes {targets}\")\n",
    "        for i in targets:\n",
    "            if boxes[i] == self.number: # 找到了，释放\n",
    "                return SUCCESS\n",
    "        return FAILURE\n",
    "    \n",
    "    # 按照经典解法找号\n",
    "    def choose_wisely(self, boxes, k):\n",
    "        n = len(boxes)\n",
    "        target = self.number\n",
    "        for i in range(n):\n",
    "            if i >= k: # 已经找了k个盒子，停止\n",
    "                break\n",
    "\n",
    "            if boxes[target] == self.number: # 找到了，释放\n",
    "                return SUCCESS\n",
    "            \n",
    "            target = boxes[target] # 下一个目标\n",
    "        return FAILURE\n"
   ]
  },
  {
   "cell_type": "markdown",
   "metadata": {},
   "source": [
    "模拟某一场游戏的代码"
   ]
  },
  {
   "cell_type": "code",
   "execution_count": 43,
   "metadata": {},
   "outputs": [
    {
     "name": "stdout",
     "output_type": "stream",
     "text": [
      "Day 1 : 53 prisoners left.\n",
      "Day 2 : 44 prisoners left.\n",
      "Day 3 : 42 prisoners left.\n",
      "Day 4 : 49 prisoners left.\n",
      "Day 5 : 40 prisoners left.\n",
      "Day 6 : 49 prisoners left.\n",
      "Day 7 : 48 prisoners left.\n",
      "Day 8 : 58 prisoners left.\n",
      "Day 9 : 50 prisoners left.\n",
      "Day 10 : 43 prisoners left.\n",
      "Out of days.\n",
      "Game over.\n"
     ]
    },
    {
     "data": {
      "text/plain": [
       "11"
      ]
     },
     "execution_count": 43,
     "metadata": {},
     "output_type": "execute_result"
    }
   ],
   "source": [
    "def generate_boxes(n):\n",
    "    # 生成长度为n的，各不重复的0~n-1的序列\n",
    "    return random.sample(range(n), n)\n",
    "\n",
    "def process(n, k, max_days=10, is_wise=False, info=False):\n",
    "    # 生成盒子\n",
    "    boxes = generate_boxes(n)\n",
    "    # 生成囚徒\n",
    "    prisoners = [Prisoner(i) for i in range(n)]\n",
    "\n",
    "    # 开始游戏\n",
    "    day = 0\n",
    "    success_count = 0 # 成功找到自己编号的囚徒数量\n",
    "    while success_count < len(prisoners):\n",
    "        day += 1\n",
    "        if day > max_days:\n",
    "            if info: print(\"Out of days.\")\n",
    "            break\n",
    "\n",
    "        # 刷新盒子\n",
    "        boxes = generate_boxes(n)\n",
    "        success_count = 0\n",
    "\n",
    "        # 处理囚徒\n",
    "        for prisoner in prisoners:\n",
    "            result = FAILURE\n",
    "            if is_wise:\n",
    "                result = prisoner.choose_wisely(boxes, k)\n",
    "            else:\n",
    "                result = prisoner.choose_randomly(boxes, k)\n",
    "\n",
    "            if result == SUCCESS:\n",
    "                success_count += 1\n",
    "\n",
    "        if info: print(\"Day\", day, \":\", len(prisoners) - success_count, \"prisoners left.\")\n",
    "\n",
    "\n",
    "    if info: print(\"Game over.\")\n",
    "    return day\n",
    "\n",
    "# 测试\n",
    "process(100, 50, max_days=10, is_wise=False, info=True)\n"
   ]
  },
  {
   "cell_type": "markdown",
   "metadata": {},
   "source": [
    "模拟多场游戏的代码"
   ]
  },
  {
   "cell_type": "code",
   "execution_count": 28,
   "metadata": {},
   "outputs": [
    {
     "data": {
      "text/plain": [
       "[0, 29, 21, 17, 5, 9, 5, 4, 1, 3, 2, 4]"
      ]
     },
     "execution_count": 28,
     "metadata": {},
     "output_type": "execute_result"
    }
   ],
   "source": [
    "def simulate(times, n, k, max_days, is_wise):\n",
    "    day_stats = [0] * (max_days + 2)\n",
    "    for _ in range(times):\n",
    "        day = process(n, k, max_days=max_days, is_wise=is_wise, info=False)\n",
    "        day_stats[day] += 1\n",
    "\n",
    "    return day_stats\n",
    "\n",
    "# 测试\n",
    "simulate(\n",
    "    times=100, \n",
    "    n=100, \n",
    "    k=50, \n",
    "    max_days=10, \n",
    "    is_wise=True\n",
    ")"
   ]
  },
  {
   "cell_type": "markdown",
   "metadata": {},
   "source": [
    "统计分析结果"
   ]
  },
  {
   "cell_type": "code",
   "execution_count": 29,
   "metadata": {},
   "outputs": [],
   "source": [
    "def analyse(day_stats):\n",
    "    games_count = sum(day_stats)\n",
    "    print(f\"总共模拟了 {games_count} 次\")\n",
    "    print(\"-----------------------------------------\")\n",
    "\n",
    "    for i in range(1, len(day_stats)-1):\n",
    "        day_count = day_stats[i]\n",
    "        print(f\"第 {i}\\t天结束数量:\\t{day_count}\\t, 占比:\\t{day_count/games_count*100:.2f}%\")\n",
    "    \n",
    "    print(\"-----------------------------------------\")\n",
    "\n",
    "    count = 0\n",
    "    for i in range(1, len(day_stats)-1):\n",
    "        count += day_stats[i]\n",
    "        print(f\"前 {i}\\t天内结束数量:\\t{count}\\t, 占比:\\t{count/games_count*100:.2f}%\")"
   ]
  },
  {
   "cell_type": "code",
   "execution_count": 35,
   "metadata": {},
   "outputs": [
    {
     "name": "stdout",
     "output_type": "stream",
     "text": [
      "有策略模式\n",
      "总共模拟了 10000 次\n",
      "-----------------------------------------\n",
      "第 1\t天结束数量:\t3149\t, 占比:\t31.49%\n",
      "第 2\t天结束数量:\t2146\t, 占比:\t21.46%\n",
      "第 3\t天结束数量:\t1470\t, 占比:\t14.70%\n",
      "第 4\t天结束数量:\t1025\t, 占比:\t10.25%\n",
      "第 5\t天结束数量:\t732\t, 占比:\t7.32%\n",
      "第 6\t天结束数量:\t414\t, 占比:\t4.14%\n",
      "第 7\t天结束数量:\t337\t, 占比:\t3.37%\n",
      "第 8\t天结束数量:\t235\t, 占比:\t2.35%\n",
      "第 9\t天结束数量:\t143\t, 占比:\t1.43%\n",
      "第 10\t天结束数量:\t104\t, 占比:\t1.04%\n",
      "-----------------------------------------\n",
      "前 1\t天内结束数量:\t3149\t, 占比:\t31.49%\n",
      "前 2\t天内结束数量:\t5295\t, 占比:\t52.95%\n",
      "前 3\t天内结束数量:\t6765\t, 占比:\t67.65%\n",
      "前 4\t天内结束数量:\t7790\t, 占比:\t77.90%\n",
      "前 5\t天内结束数量:\t8522\t, 占比:\t85.22%\n",
      "前 6\t天内结束数量:\t8936\t, 占比:\t89.36%\n",
      "前 7\t天内结束数量:\t9273\t, 占比:\t92.73%\n",
      "前 8\t天内结束数量:\t9508\t, 占比:\t95.08%\n",
      "前 9\t天内结束数量:\t9651\t, 占比:\t96.51%\n",
      "前 10\t天内结束数量:\t9755\t, 占比:\t97.55%\n"
     ]
    }
   ],
   "source": [
    "times = 10000\n",
    "n = 100\n",
    "k = 50\n",
    "max_days = 10\n",
    "\n",
    "# print(\"无策略随机模式\")\n",
    "# day_stats = simulate(times=times, n=n, k=k, max_days=max_days, is_wise=False)\n",
    "# analyse(day_stats)\n",
    "# print()\n",
    "print(\"有策略模式\")\n",
    "day_stats = simulate(times=times, n=n, k=k, max_days=max_days, is_wise=True)\n",
    "analyse(day_stats)"
   ]
  },
  {
   "cell_type": "markdown",
   "metadata": {},
   "source": [
    "## 理论计算"
   ]
  },
  {
   "cell_type": "markdown",
   "metadata": {},
   "source": [
    "设第d天之前所有囚徒成功找到自己的编号的概率为 $p_d$\n",
    "\n",
    "由于每一天的游戏成功与否是独立的，设每一天所有囚徒都成功找到自己编号的概率为 $p$\n",
    "\n",
    "那么 $p_d = 1-(1-p)^d$\n",
    "\n",
    "接下来就只需要讨论两种策略下 $p$ 为多少\n",
    "\n",
    "---\n",
    "\n",
    "### 首先是使用随机抽取的策略\n",
    "\n",
    "由于每个囚徒之间没有交流，所以每个囚徒能否找到自己编号的事件彼此之间是独立的\n",
    "\n",
    "设 $q$ 为某个囚徒找到自己的编号的概率，那么 $p = q^n$\n",
    "\n",
    "又因为 $q = \\frac{k}{n}$\n",
    "\n",
    "得 $p = (\\frac{k}{n})^n$， 进一步得到 $p_d = 1-(1-(\\frac{k}{n})^n)^d$\n",
    "\n",
    "当 $n = 100$, $k = 50$ 时， $p_d = 1-(1-(\\frac{1}{2})^{100})^d$\n",
    "\n",
    "这个概率非常小，几乎不可能\n",
    "\n",
    "---\n",
    "\n",
    "### 然后是使用链式查找的策略\n",
    "\n",
    "同样设 $q$ 为某个囚徒找到自己的编号的概率\n",
    "\n",
    "实际上这个概率就等价于该囚徒得编号所在的\"环\"的长度 $\\le k$ 的概率（因为只要它自己的编号所在的环长度小于查找机会数，就一定可以找到自己的编号，并且，由于自己的编号一定是环的最后一个元素，一旦编号所在环的长度大于查找机会数，就一定不能找到自己的编号）\n",
    "\n",
    "再设 $q_i$ 为该囚徒的编号所在环的长度等于 $i$ 的概率\n",
    "\n",
    "那么 $q = \\sum_{i=1}^k q_i$\n",
    "\n",
    "这里我不用排列组合的方式来算概率，感觉不太容易理解，直接用最直观的方式来算概率\n",
    "\n",
    "首先我们要确定如何生成 $n$ 个囚犯所抽的编号盒子，也就是确定概率模型的随机事件\n",
    "\n",
    "发现，我们可以从第一个盒子开始，一个个地放置囚徒们的编号，每个编号只能被放一次，直到所有盒子都被放置了编号\n",
    "\n",
    "第一个盒子可以放 $n$ 个不同的编号，第二个盒子可以放 $n-1$ 个不同的编号，依次类推，最后一个盒子可以放 $1$ 个编号\n",
    "\n",
    "所以，$n$ 个囚徒对应的编号盒子一共有 $n!$ 种不同的放置方式。\n",
    "\n",
    "再来看 $q_i$ 这当前建立的概率模型的下有多少种不同的随机事件\n",
    "\n",
    "这种条件下，我们已经事先直到要让某个确定囚徒的环的长度是 $i$，就可以按照如下的方式进行放置\n",
    "\n",
    "当 $i = 1$ 时，直接在该囚徒的编号盒子中放置该囚徒自己对应的编号，只有一种方式 <br>\n",
    "当 $i = 2$ 时，首先在该囚徒的编号盒子中放置除了他自己编号以外的编号，有 $n-1$ 种选择，再在选择的编号对应的盒子种放该囚徒对应的编号，1 种选择。共 $(n-1)·1$ 种选择 <br>\n",
    "以此类推，当 $i = i$ 时，就有 $\\frac{(n-1)!}{(n-i)!}$ 种选择\n",
    "\n",
    "当把属于这条长度为 $i$ 的环对应的盒子放置完毕后，还剩下 $n-i$ 个盒子，这些盒子就随机放置剩下的编号，有 $(n-i)!$ 种选择。<br>\n",
    "那么，一共就有 $\\frac{(n-1)!}{(n-i)!}·(n-i)! = (n-1)!$ 种选择\n",
    "\n",
    "所以，$q$ 就等于 $\\frac{(n-1)!}{n!} = \\frac{1}{n}$， $q$ 就等于 $\\frac{k}{n}$\n",
    "\n",
    "发现怎么和随机的策略是一样的？？？每个囚徒找到自己编号的概率并没有增加，难道是计算出错了吗？\n",
    "\n",
    "实际上，计算并没有出错，这种策略下每个囚徒找到自己编号的概率的确没有改变。而是囚徒找到自己编号成功与否这些随机变量之间变得不再独立了。\n",
    "\n",
    "因为在这种策略下，倘若一个囚徒找到了自己的编号，那么可以肯定，和这个囚徒处于同一个环上的编号对应的囚徒都一定能找到自己的编号，反之亦然。\n",
    "\n",
    "因此在这种策略下，仅仅知道了 $q$ 并不能计算出 $p$\n",
    "\n",
    "所以我们要换一种方式计算 $p$，也就是直接计算 $p$ 的概率\n",
    "\n",
    "$p$ 等价于 P(不存在长度 $> k$ 的环)，等价于 1-P(存在长度 $> k$ 的环)\n",
    "\n",
    "当 $k \\ge \\frac{n}{2}$ 时，至多存在一个这样的环，这种情况比较简单，此处就只计算这种情况了\n",
    "\n",
    "此时设 $q_i$ 为存在长度为 $i$ 的环的概率，那么 $p = 1 - \\sum_{i=k+1}^n q_i$\n",
    "\n",
    "此时 $q_i$ 的计算不在赘述，直接给出\n",
    "\n",
    "$q_i = \\frac{C_n^i·(i-1)!·A_{n-i}^{n-i}}{A_n^n} = \\frac{1}{i}$\n",
    "\n",
    "得到 $p = 1 - \\sum_{i=k+1}^n \\frac{1}{i}, k \\ge \\frac{n}{2}$\n",
    "\n",
    "当 $n = 100, k = 50$ 时，使用下面的代码计算得到 $p$，再进一步算出各个天数对应的 $p_d$"
   ]
  },
  {
   "cell_type": "code",
   "execution_count": 34,
   "metadata": {},
   "outputs": [
    {
     "name": "stdout",
     "output_type": "stream",
     "text": [
      "0.3118278206898052\n",
      "Day 1: 0.3118\n",
      "Day 2: 0.5264\n",
      "Day 3: 0.6741\n",
      "Day 4: 0.7757\n",
      "Day 5: 0.8457\n",
      "Day 6: 0.8938\n",
      "Day 7: 0.9269\n",
      "Day 8: 0.9497\n",
      "Day 9: 0.9654\n",
      "Day 10: 0.9762\n"
     ]
    }
   ],
   "source": [
    "p = 1\n",
    "for i in range(k+1, n+1):\n",
    "    p -= 1/i\n",
    "print(p)\n",
    "\n",
    "# 进一步得到 p_d = 1 - (1-p)^d\n",
    "for d in range(1, max_days+1):\n",
    "    p_d = 1 - (1-p)**d\n",
    "    print(f\"Day {d}: {p_d:.4f}\")"
   ]
  },
  {
   "cell_type": "markdown",
   "metadata": {},
   "source": [
    "可以看到和模拟的结果是高度吻合的"
   ]
  }
 ],
 "metadata": {
  "kernelspec": {
   "display_name": "base",
   "language": "python",
   "name": "python3"
  },
  "language_info": {
   "codemirror_mode": {
    "name": "ipython",
    "version": 3
   },
   "file_extension": ".py",
   "mimetype": "text/x-python",
   "name": "python",
   "nbconvert_exporter": "python",
   "pygments_lexer": "ipython3",
   "version": "3.11.9"
  }
 },
 "nbformat": 4,
 "nbformat_minor": 2
}
